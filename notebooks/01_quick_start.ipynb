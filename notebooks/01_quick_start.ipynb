{
 "cells": [
  {
   "cell_type": "markdown",
   "metadata": {},
   "source": [
    "# 🚀 SECOP Analysis Toolkit - Quick Start\n",
    "\n",
    "**Developed by:** [Camilo Vega](https://www.linkedin.com/in/camilo-vega-169084b1/)  \n",
    "*AI Transformation Lead | AI/ML Engineer | Professor and AI Consultant*\n",
    "\n",
    "**Welcome to the SECOP analysis toolkit!** This notebook will guide you step by step to extract and analyze Colombia's public procurement data.\n",
    "\n",
    "## What will you learn?\n",
    "- Extract contracts using SECOP API\n",
    "- Filter and search specific information\n",
    "- Analyze basic patterns\n",
    "- Generate visualizations\n",
    "- Export results\n",
    "\n",
    "**⏱️ Estimated time: 15 minutes**"
   ]
  },
  {
   "cell_type": "markdown",
   "metadata": {},
   "source": [
    "## 1. 🛠️ Initial Setup\n",
    "\n",
    "First, we install the necessary dependencies and configure the environment."
   ]
  },
  {
   "cell_type": "code",
   "execution_count": null,
   "metadata": {},
   "outputs": [],
   "source": [
    "# Install dependencies (only first time)\n",
    "!pip install pandas requests matplotlib seaborn plotly\n",
    "\n",
    "# Import libraries\n",
    "import pandas as pd\n",
    "import requests\n",
    "import matplotlib.pyplot as plt\n",
    "import seaborn as sns\n",
    "from datetime import datetime\n",
    "import warnings\n",
    "warnings.filterwarnings('ignore')\n",
    "\n",
    "print(\"✅ Libraries installed and configured\")"
   ]
  },
  {
   "cell_type": "markdown",
   "metadata": {},
   "source": [
    "## 2. 📥 Load SECOP Scripts\n",
    "\n",
    "Load the main functions from our scripts."
   ]
  },
  {
   "cell_type": "code",
   "execution_count": null,
   "metadata": {},
   "outputs": [],
   "source": [
    "# If you're in Google Colab, download the scripts\n",
    "!wget -q https://raw.githubusercontent.com/your-username/secop-analysis-toolkit/main/secop_api.py\n",
    "\n",
    "# Import main functions\n",
    "from secop_api import buscar_contratos, resumen_busqueda, exportar_excel, mostrar_columnas_disponibles\n",
    "\n",
    "print(\"✅ SECOP scripts loaded correctly\")"
   ]
  },
  {
   "cell_type": "markdown",
   "metadata": {},
   "source": [
    "## 3. 🔍 Your First Search\n",
    "\n",
    "Let's search for contracts in a specific department. You can change \"La Guajira\" to any Colombian department."
   ]
  },
  {
   "cell_type": "code",
   "execution_count": null,
   "metadata": {},
   "outputs": [],
   "source": [
    "# Search contracts in La Guajira (last 50)\n",
    "print(\"🔍 Searching contracts in La Guajira...\")\n",
    "\n",
    "contracts = buscar_contratos(\n",
    "    limite=50,\n",
    "    departamento=\"La Guajira\"\n",
    ")\n",
    "\n",
    "# Show summary\n",
    "resumen_busqueda(contracts)\n",
    "\n",
    "print(f\"\\n📊 Data loaded: {len(contracts)} contracts\")"
   ]
  },
  {
   "cell_type": "markdown",
   "metadata": {},
   "source": [
    "## 4. 📊 Explore the Data\n",
    "\n",
    "Let's see what information we have available in the contracts."
   ]
  },
  {
   "cell_type": "code",
   "execution_count": null,
   "metadata": {},
   "outputs": [],
   "source": [
    "# View first rows\n",
    "print(\"📋 First 3 contracts:\")\n",
    "display(contracts.head(3))\n",
    "\n",
    "# View basic information\n",
    "print(f\"\\n📏 Dimensions: {contracts.shape[0]} rows x {contracts.shape[1]} columns\")\n",
    "print(f\"📝 Available columns: {len(contracts.columns)}\")"
   ]
  },
  {
   "cell_type": "markdown",
   "metadata": {},
   "source": [
    "## 5. 🎯 Specific Searches\n",
    "\n",
    "Now let's do more specific searches with different filters."
   ]
  },
  {
   "cell_type": "code",
   "execution_count": null,
   "metadata": {},
   "outputs": [],
   "source": [
    "# Search large contracts (more than 100 million)\n",
    "print(\"💰 Searching large contracts (> 100M)...\")\n",
    "\n",
    "large_contracts = buscar_contratos(\n",
    "    limite=100,\n",
    "    departamento=\"La Guajira\",\n",
    "    valor_minimo=100000000  # 100 million\n",
    ")\n",
    "\n",
    "print(f\"Found: {len(large_contracts)} large contracts\")\n",
    "\n",
    "# Search by contract object\n",
    "print(\"\\n🏗️ Searching infrastructure contracts...\")\n",
    "\n",
    "infrastructure_contracts = buscar_contratos(\n",
    "    limite=50,\n",
    "    departamento=\"La Guajira\",\n",
    "    objeto_a_contratar=\"infrastructure\"\n",
    ")\n",
    "\n",
    "print(f\"Found: {len(infrastructure_contracts)} infrastructure contracts\")"
   ]
  },
  {
   "cell_type": "markdown",
   "metadata": {},
   "source": [
    "## 6. 📈 Basic Analysis\n",
    "\n",
    "Let's analyze the data we've extracted."
   ]
  },
  {
   "cell_type": "code",
   "execution_count": null,
   "metadata": {},
   "outputs": [],
   "source": [
    "# Ensure contract value is numeric\n",
    "contracts['valor_contrato'] = pd.to_numeric(contracts['valor_contrato'], errors='coerce')\n",
    "\n",
    "# Basic statistics\n",
    "print(\"📊 BASIC STATISTICS:\")\n",
    "print(\"-\" * 40)\n",
    "print(f\"Total contracts: {len(contracts):,}\")\n",
    "\n",
    "if contracts['valor_contrato'].notna().sum() > 0:\n",
    "    print(f\"Total value: ${contracts['valor_contrato'].sum():,.0f}\")\n",
    "    print(f\"Average value: ${contracts['valor_contrato'].mean():,.0f}\")\n",
    "    print(f\"Maximum value: ${contracts['valor_contrato'].max():,.0f}\")\n",
    "\n",
    "print(f\"Unique entities: {contracts['nombre_de_la_entidad'].nunique()}\")\n",
    "print(f\"Unique contractors: {contracts['nom_raz_social_contratista'].nunique()}\")"
   ]
  },
  {
   "cell_type": "markdown",
   "metadata": {},
   "source": [
    "## 7. 📊 Visualizations\n",
    "\n",
    "Let's create some charts to better understand the data."
   ]
  },
  {
   "cell_type": "code",
   "execution_count": null,
   "metadata": {},
   "outputs": [],
   "source": [
    "# Configure style\n",
    "plt.style.use('default')\n",
    "plt.rcParams['figure.figsize'] = (12, 6)\n",
    "\n",
    "# Top 10 entities by number of contracts\n",
    "top_entities = contracts['nombre_de_la_entidad'].value_counts().head(10)\n",
    "\n",
    "plt.figure(figsize=(12, 8))\n",
    "plt.barh(range(len(top_entities)), top_entities.values)\n",
    "plt.yticks(range(len(top_entities)), [name[:50] + '...' if len(name) > 50 else name for name in top_entities.index])\n",
    "plt.xlabel('Number of Contracts')\n",
    "plt.title('Top 10 Entities by Number of Contracts')\n",
    "plt.gca().invert_yaxis()\n",
    "plt.tight_layout()\n",
    "plt.show()\n",
    "\n",
    "print(\"📊 Top 10 Entities:\")\n",
    "for i, (entity, count) in enumerate(top_entities.items(), 1):\n",
    "    print(f\"{i:2d}. {entity[:60]} ... ({count} contracts)\")"
   ]
  },
  {
   "cell_type": "markdown",
   "metadata": {},
   "source": [
    "## 8. 💾 Export Results\n",
    "\n",
    "Save your analysis results for later use."
   ]
  },
  {
   "cell_type": "code",
   "execution_count": null,
   "metadata": {},
   "outputs": [],
   "source": [
    "# Export to Excel\n",
    "if not contracts.empty:\n",
    "    filename = exportar_excel(contracts, \"la_guajira_analysis\")\n",
    "    if filename:\n",
    "        print(f\"✅ Data exported to: {filename}\")\n",
    "    else:\n",
    "        print(\"❌ Error exporting data\")\n",
    "else:\n",
    "    print(\"❌ No data to export\")"
   ]
  },
  {
   "cell_type": "markdown",
   "metadata": {},
   "source": [
    "## 9. 🧠 AI Investigation (Advanced)\n",
    "\n",
    "If you have AI APIs configured, you can run deep investigations."
   ]
  },
  {
   "cell_type": "code",
   "execution_count": null,
   "metadata": {},
   "outputs": [],
   "source": [
    "# Uncomment if you have AI APIs configured\n",
    "# from secop_ia import ejecutar_investigacion_automatica\n",
    "# \n",
    "# print(\"🧠 Starting AI investigation...\")\n",
    "# ejecutar_investigacion_automatica()\n",
    "\n",
    "print(\"ℹ️ AI investigation requires API configuration\")\n",
    "print(\"See README.md for setup instructions\")"
   ]
  },
  {
   "cell_type": "markdown",
   "metadata": {},
   "source": [
    "## 🎉 Congratulations!\n",
    "\n",
    "You've successfully completed your first SECOP analysis. You've learned to:\n",
    "\n",
    "✅ Extract public procurement data  \n",
    "✅ Filter and search specific information  \n",
    "✅ Analyze basic patterns  \n",
    "✅ Create visualizations  \n",
    "✅ Export results  \n",
    "\n",
    "### Next Steps:\n",
    "- Explore `02_ai_investigation.ipynb` for AI-powered analysis\n",
    "- Check `03_use_cases.ipynb` for real investigation examples\n",
    "- Read the documentation in `/docs` for advanced features\n",
    "\n",
    "**Happy analyzing! 📊🔍**"
   ]
  }
 ],
 "metadata": {
  "kernelspec": {
   "display_name": "Python 3",
   "language": "python",
   "name": "python3"
  },
  "language_info": {
   "codemirror_mode": {
    "name": "ipython",
    "version": 3
   },
   "file_extension": ".py",
   "mimetype": "text/x-python",
   "